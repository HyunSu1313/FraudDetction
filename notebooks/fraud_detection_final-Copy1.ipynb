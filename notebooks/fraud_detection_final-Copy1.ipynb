{
 "cells": [
  {
   "cell_type": "markdown",
   "id": "0",
   "metadata": {},
   "source": [
    "# Fraud Detection Ledger 프로젝트 개요\n",
    "본 프로젝트는 ERP 회계전표 데이터를 활용하여 자금 횡령 및 부정거래를 자동으로 탐지하는 시스템입니다.\n",
    "데이터 불러오기, 전처리, 비지도학습, 지도학습, 시각화를 포함하였습니다."
   ]
  },
  {
   "cell_type": "code",
   "execution_count": null,
   "id": "1",
   "metadata": {},
   "outputs": [],
   "source": [
    "import pandas as pd\n",
    "\n",
    "#데이터 불러오기\n",
    "df = pd.read_csv(r'C:\\Users\\HyunSu\\Desktop\\Fraud Detection Ledger\\data\\fake_journal_entries_500.csv')\n",
    "\n",
    "#데이터 정보 확인\n",
    "print(df.head())\n",
    "print(df.info())\n",
    "print(df.describe())"
   ]
  },
  {
   "cell_type": "code",
   "execution_count": null,
   "id": "2",
   "metadata": {},
   "outputs": [],
   "source": [
    "#머신러닝 준비과정\n",
    "\n",
    "# 시간 파생 변수 및 야간 입력 여부\n",
    "df['date'] = pd.to_datetime(df['date'])\n",
    "df['time'] = pd.to_datetime(df['time'], format='%H:%M')\n",
    "df['hour'] = df['time'].dt.hour\n",
    "df['is_late_entry'] = (df['hour'] >= 18).astype(int)\n",
    "\n",
    "\n",
    "# 공휴일 학습\n",
    "import holidays\n",
    "kr_holidays = holidays.KR(years=2025)\n",
    "kr_holiday_dates = pd.to_datetime(list(kr_holidays.keys()))\n",
    "df['is_holiday'] = df['date'].isin(kr_holiday_dates).astype(int)\n"
   ]
  },
  {
   "cell_type": "code",
   "execution_count": null,
   "id": "3",
   "metadata": {},
   "outputs": [],
   "source": [
    "#비지도학습 (isoltation forest)\n",
    "\n",
    "from sklearn.preprocessing import LabelEncoder\n",
    "from sklearn.ensemble import IsolationForest\n",
    "\n",
    "# isolation forest model 적용\n",
    "X_iso = df[['amount', 'hour', 'is_late_entry', 'is_holiday']]\n",
    "iso_model = IsolationForest(contamination=0.1, random_state=57)\n",
    "df['anomaly_score'] = iso_model.fit_predict(X_iso)  # -1: 이상, 1: 정상\n",
    "df['is_anomaly'] = df['anomaly_score'] == -1"
   ]
  },
  {
   "cell_type": "code",
   "execution_count": null,
   "id": "4",
   "metadata": {},
   "outputs": [],
   "source": [
    "# 지도학습 (Random Forest)\n",
    "from sklearn.ensemble import RandomForestClassifier\n",
    "from sklearn.model_selection import train_test_split\n",
    "from sklearn.metrics import classification_report\n",
    "\n",
    "# 사용자별 반복 고액 이체 여부 확인\n",
    "df['high_amount'] = df['amount'].abs() > 1_000_000\n",
    "user_high_transfer_count = df.groupby('entered_by')['high_amount'].transform('sum')\n",
    "df['user_high_transfer_count'] = user_high_transfer_count\n",
    "\n",
    "# 이상 조건 정의 (조건이 2개 이상 충족 시 이상으로 간주)\n",
    "conditions = [\n",
    "    df['amount'].abs() > 1_000_000,\n",
    "    df['is_holiday'] == 1,\n",
    "    df['is_late_entry'] == 1,\n",
    "    df['user_high_transfer_count'] >= 3,\n",
    "    df['vendor'].str.contains('Ltd'),\n",
    "]\n",
    "df['potential_fraud_complex'] = (sum(conditions) >= 2).astype(int)\n",
    "\n",
    "# 모델 학습 및 평가\n",
    "X = df[['amount', 'hour', 'is_late_entry', 'is_holiday']]\n",
    "y = df['potential_fraud_complex']\n",
    "X_train, X_test, y_train, y_test = train_test_split(X, y, stratify=y, random_state=57)\n",
    "\n",
    "clf = RandomForestClassifier(random_state=57)\n",
    "clf.fit(X_train, y_train)\n",
    "y_pred = clf.predict(X_test)\n",
    "df['rf_pred'] = clf.predict(X)\n",
    "\n",
    "print(\"Random Forest 평가 결과:\")\n",
    "print(classification_report(y_test, y_pred))\n",
    "\n",
    "\n",
    "# 비지도학습 평가용 데이터 분할 (Isolation Forest → 지도 학습 평가 방식 적)\n",
    "from sklearn.ensemble import IsolationForest\n",
    "\n",
    "X_iso = df[['amount', 'hour', 'is_late_entry', 'is_holiday']]\n",
    "y_iso = df['is_anomaly'].astype(int)\n",
    "\n",
    "X_train_iso, X_test_iso, y_train_iso, y_test_iso = train_test_split(\n",
    "    X_iso, y_iso, test_size=0.3, stratify=y_iso, random_state=57\n",
    ")\n",
    "\n",
    "iso = IsolationForest(contamination=0.1, random_state=57)\n",
    "iso.fit(X_train_iso)\n",
    "\n",
    "y_pred_iso = (iso.predict(X_test_iso) == -1).astype(int)\n",
    "\n",
    "print(\"Isolation Forest 평가 결과:\")\n",
    "print(classification_report(y_test_iso, y_pred_iso))"
   ]
  },
  {
   "cell_type": "code",
   "execution_count": null,
   "id": "5",
   "metadata": {},
   "outputs": [],
   "source": [
    "#지도학습과 비지도학습 결과 비교\n",
    "print(\"비지도학습 탐지 결과\")\n",
    "print(df['is_anomaly'].value_counts())\n",
    "\n",
    "print(\"지도학습 라벨링 기준 탐지 결과\")\n",
    "print(df['potential_fraud_complex'].value_counts())\n",
    "\n",
    "print(\"교차표로 비교 (얼마나 겹치는지)\")\n",
    "print(pd.crosstab(df['is_anomaly'], df['potential_fraud_complex']))\n"
   ]
  },
  {
   "cell_type": "code",
   "execution_count": null,
   "id": "6",
   "metadata": {},
   "outputs": [],
   "source": [
    "from sklearn.model_selection import cross_val_score\n",
    "from sklearn.ensemble import RandomForestClassifier\n",
    "\n",
    "# 모델 정의\n",
    "rf_model = RandomForestClassifier(random_state=57)\n",
    "\n",
    "# 교차 검증 수행 (5-겹 교차 검증)\n",
    "cv_scores = cross_val_score(rf_model, X_train, y_train, cv=5)\n",
    "\n",
    "# 결과 출력\n",
    "print(f\"교차 검증 정확도: {cv_scores}\")\n",
    "print(f\"평균 정확도: {cv_scores.mean():.4f}\")\n",
    "print(f\"정확도 표준편차: {cv_scores.std():.4f}\")\n"
   ]
  },
  {
   "cell_type": "code",
   "execution_count": null,
   "id": "7",
   "metadata": {},
   "outputs": [],
   "source": [
    "import matplotlib.pyplot as plt\n",
    "import matplotlib\n",
    "import numpy as np\n",
    "\n",
    "# 글꼴설정\n",
    "matplotlib.rcParams['font.family'] = 'Malgun Gothic'\n",
    "matplotlib.rcParams['axes.unicode_minus'] = False\n"
   ]
  },
  {
   "cell_type": "code",
   "execution_count": null,
   "id": "8",
   "metadata": {},
   "outputs": [],
   "source": [
    "# 교차 검증 정확도 (예시 데이터)\n",
    "cv_scores = [0.93333333, 0.88, 0.89333333, 0.92, 0.89333333]\n",
    "\n",
    "# x축: fold 번호\n",
    "folds = np.arange(1, len(cv_scores) + 1)\n",
    "\n",
    "# 시각화\n",
    "plt.figure(figsize=(8, 6))\n",
    "plt.plot(folds, cv_scores, marker='o', linestyle='-', color='b', label='정확도')\n",
    "plt.fill_between(folds, np.mean(cv_scores) - np.std(cv_scores), np.mean(cv_scores) + np.std(cv_scores),\n",
    "                 color='b', alpha=0.2, label='정확도 표준편차 범위')\n",
    "plt.axhline(np.mean(cv_scores), color='r', linestyle='--', label=f'평균 정확도: {np.mean(cv_scores):.4f}')\n",
    "plt.title('교차 검증 정확도 시각화')\n",
    "plt.xlabel('Fold 번호')\n",
    "plt.ylabel('정확도')\n",
    "plt.xticks(folds)\n",
    "plt.legend()\n",
    "plt.grid(True)\n",
    "plt.show()\n"
   ]
  },
  {
   "cell_type": "code",
   "execution_count": null,
   "id": "9",
   "metadata": {},
   "outputs": [],
   "source": [
    "# 금액 분포 차트 시각화\n",
    "sns.set(style='whitegrid')\n",
    "plt.figure(figsize=(10,6))\n",
    "sns.histplot(df['amount'], bins=30, kde=True)\n",
    "plt.title('금액 분포', fontproperties=font_prop)\n",
    "plt.xlabel('금액', fontproperties=font_prop)\n",
    "plt.ylabel('빈도', fontproperties=font_prop)\n",
    "plt.show()"
   ]
  },
  {
   "cell_type": "code",
   "execution_count": null,
   "id": "10",
   "metadata": {},
   "outputs": [],
   "source": [
    "# 시간대별 이상/정상 건수 집계\n",
    "hourly = df.groupby(['hour', 'is_anomaly']).size().reset_index(name='count')\n",
    "hourly_pivot = hourly.pivot(index='hour', columns='is_anomaly', values='count').fillna(0)\n",
    "hourly_pivot.columns = ['정상', '이상']\n",
    "mpl.rcParams['font.family'] = ['Malgun Gothic', 'sans-serif']\n",
    "mpl.rcParams['axes.unicode_minus'] = False\n",
    "\n",
    "# 비율 계산\n",
    "hourly_pivot['이상비율'] = hourly_pivot['이상'] / (hourly_pivot['정상'] + hourly_pivot['이상'])\n",
    "\n",
    "plt.figure(figsize=(10, 5))\n",
    "sns.lineplot(data=hourly_pivot, x=hourly_pivot.index, y='이상비율', marker='o')\n",
    "plt.xlabel('시간대 (hour)')\n",
    "plt.ylabel('이상 거래 비율')\n",
    "plt.title('시간대별 이상 거래 비율 시각화')\n",
    "plt.grid(True)\n",
    "plt.show()\n"
   ]
  },
  {
   "cell_type": "code",
   "execution_count": null,
   "id": "11",
   "metadata": {},
   "outputs": [],
   "source": [
    "plt.figure(figsize=(8, 5))\n",
    "sns.boxplot(\n",
    "    data=df,\n",
    "    x='is_anomaly', \n",
    "    y='amount', \n",
    "    hue='is_anomaly',        # palette 사용 시 필수!\n",
    "    palette=['C0', 'C1'],    # 0 → C0, 1 → C1\n",
    "    legend=False             # 범례 숨기기\n",
    ")\n",
    "plt.yscale('log')\n",
    "plt.xlabel('이상 여부 (0: 정상, 1: 이상)')\n",
    "plt.ylabel('거래 금액 (로그 스케일)')\n",
    "plt.title('이상 vs 정상 거래 금액 분포 비교')\n",
    "plt.show()\n"
   ]
  },
  {
   "cell_type": "code",
   "execution_count": null,
   "id": "12",
   "metadata": {},
   "outputs": [],
   "source": [
    "# 공휴일 / 야간 입력별 평균 이상 비율 계산\n",
    "pivot = df.groupby(['is_holiday', 'is_late_entry'])['is_anomaly'].mean().reset_index()\n",
    "pivot = pivot.pivot(index='is_holiday', columns='is_late_entry', values='is_anomaly')\n",
    "\n",
    "# 히트맵 그리기\n",
    "plt.figure(figsize=(6, 4))\n",
    "sns.heatmap(pivot, annot=True, fmt=\".2f\", cmap='Reds')\n",
    "plt.xlabel('야간 입력 여부 (0=낮, 1=야간)')\n",
    "plt.ylabel('공휴일 여부 (0=비공휴일, 1=공휴일)')\n",
    "plt.title('공휴일/야간에 따른 이상 거래 비율')\n",
    "plt.show()\n"
   ]
  },
  {
   "cell_type": "code",
   "execution_count": null,
   "id": "13",
   "metadata": {},
   "outputs": [],
   "source": []
  },
  {
   "cell_type": "code",
   "execution_count": null,
   "id": "14",
   "metadata": {},
   "outputs": [],
   "source": []
  }
 ],
 "metadata": {
  "kernelspec": {
   "display_name": "Python 3 (ipykernel)",
   "language": "python",
   "name": "python3"
  },
  "language_info": {
   "codemirror_mode": {
    "name": "ipython",
    "version": 3
   },
   "file_extension": ".py",
   "mimetype": "text/x-python",
   "name": "python",
   "nbconvert_exporter": "python",
   "pygments_lexer": "ipython3",
   "version": "3.13.5"
  }
 },
 "nbformat": 4,
 "nbformat_minor": 5
}
