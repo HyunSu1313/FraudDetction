{
 "cells": [
  {
   "cell_type": "code",
   "execution_count": null,
   "id": "0",
   "metadata": {},
   "outputs": [],
   "source": [
    "from fraud_detection_ledger.models import (\n",
    "    split_data,\n",
    "    train_isolation_forest,\n",
    "    train_random_forest,\n",
    "    evaluate_model\n",
    ")\n",
    "# 사용할 피처만 추출\n",
    "X = df[['amount', 'hour', 'is_late_entry', 'is_holiday']]\n",
    "# 금액 절댓값 > 1,000,000 을 이상치(1)로 라벨링\n",
    "y = (df['amount'].abs() > 1_000_000).astype(int)\n",
    "X_train, X_test, y_train, y_test = split_data(X, y, stratify=y)\n",
    "iso = train_isolation_forest(X_train)\n",
    "print(\"=== Isolation Forest 평가 ===\")\n",
    "print(evaluate_model(iso, X_test, y_test))\n",
    "rf = train_random_forest(X_train, y_train)\n",
    "print(\"=== Random Forest 평가 ===\")\n",
    "print(evaluate_model(rf, X_test, y_test))\n"
   ]
  },
  {
   "cell_type": "code",
   "execution_count": null,
   "id": "1",
   "metadata": {},
   "outputs": [],
   "source": [
    "import sys\n",
    "print(sys.executable)\n"
   ]
  },
  {
   "cell_type": "code",
   "execution_count": null,
   "id": "2",
   "metadata": {},
   "outputs": [],
   "source": [
    "%pip list\n"
   ]
  },
  {
   "cell_type": "code",
   "execution_count": null,
   "id": "3",
   "metadata": {},
   "outputs": [],
   "source": []
  }
 ],
 "metadata": {
  "kernelspec": {
   "display_name": "Python 3 (ipykernel)",
   "language": "python",
   "name": "python3"
  },
  "language_info": {
   "codemirror_mode": {
    "name": "ipython",
    "version": 3
   },
   "file_extension": ".py",
   "mimetype": "text/x-python",
   "name": "python",
   "nbconvert_exporter": "python",
   "pygments_lexer": "ipython3",
   "version": "3.13.5"
  }
 },
 "nbformat": 4,
 "nbformat_minor": 5
}
